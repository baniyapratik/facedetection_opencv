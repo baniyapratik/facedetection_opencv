{
 "cells": [
  {
   "cell_type": "code",
   "execution_count": 1,
   "metadata": {},
   "outputs": [],
   "source": [
    "#Importing the libraries\n",
    "import cv2"
   ]
  },
  {
   "cell_type": "code",
   "execution_count": 2,
   "metadata": {},
   "outputs": [],
   "source": [
    "face_cascade_location = '/Users/prabaniy/Documents/python_workspace/face_recognition/haarcascade_frontalface_default.xml'\n",
    "smile_cascade_location = '/Users/prabaniy/Documents/python_workspace/face_recognition/haarcascade_smile.xml'\n",
    "# loading cascades\n",
    "face_cascade = cv2.CascadeClassifier(face_cascade_location)\n",
    "smile_cascade = cv2.CascadeClassifier(smile_cascade_location)"
   ]
  },
  {
   "cell_type": "code",
   "execution_count": 3,
   "metadata": {},
   "outputs": [],
   "source": [
    "min_no_neighbors = 5\n",
    "scale_factor = 1.3\n",
    "rectangle_thickness = 2\n",
    "face_rectangle_color = (241, 113, 113)\n",
    "smile_rectangle_color = (42, 138, 138)\n",
    "# defining a function that will do the detection\n",
    "def detect(gray, original_frame):\n",
    "    faces = face_cascade.detectMultiScale(gray, scale_factor, min_no_neighbors)\n",
    "    for (x,y,w,h) in faces:\n",
    "        cv2.rectangle(original_frame, (x,y), (x+w, y+h), face_rectangle_color, rectangle_thickness)\n",
    "        roi_gray = gray[y:y+h, x: x+w]\n",
    "        roi_color = original_frame[y:y+h, x: x+w]\n",
    "        smiles = smile_cascade.detectMultiScale(roi_gray, 1.7, 3)\n",
    "        for (sx, sy, sw, sh) in smiles:\n",
    "            cv2.rectangle(roi_color, (sx, sy), (sx+sw, sy+sh), smile_rectangle_color, rectangle_thickness)\n",
    "    return original_frame    "
   ]
  },
  {
   "cell_type": "code",
   "execution_count": 4,
   "metadata": {},
   "outputs": [],
   "source": [
    "# generate sketch \n",
    "def sketch(image):\n",
    "    # convert image to gray scale\n",
    "    img_gray = cv2.cvtColor(image, cv2.COLOR_BGR2GRAY)\n",
    "    # clean up image usng gaussian blur\n",
    "    img_gray_blur = cv2.GaussianBlur(image, (5,5), 0)\n",
    "    # extract edges\n",
    "    edges = cv2.Canny(img_gray_blur, 50, 120)\n",
    "    \n",
    "    ret, mask = cv2.threshold(edges, 70, 255, cv2.THRESH_BINARY_INV)\n",
    "    return mask"
   ]
  },
  {
   "cell_type": "code",
   "execution_count": 5,
   "metadata": {},
   "outputs": [],
   "source": [
    "# face recognition with webcam\n",
    "video_capture = cv2.VideoCapture(0)"
   ]
  },
  {
   "cell_type": "code",
   "execution_count": null,
   "metadata": {},
   "outputs": [],
   "source": [
    "while True:\n",
    "    _, frame = video_capture.read()\n",
    "#     gray = cv2.cvtColor(frame, cv2.COLOR_BGR2GRAY)\n",
    "#     canvas = detect(gray, frame)\n",
    "    cv2.imshow('Our Live Sketch', sketch(frame))\n",
    "    #cv2.imshow('Video', canvas)\n",
    "   \n",
    "    if  cv2.waitKey(1) == 13: # break when enter is executed\n",
    "        break\n",
    "\n",
    "# release the camera and close the windows\n",
    "video_capture.release()\n",
    "cv2.destroyAllWindows()"
   ]
  },
  {
   "cell_type": "code",
   "execution_count": 6,
   "metadata": {},
   "outputs": [],
   "source": [
    "video_capture.release()\n",
    "cv2.destroyAllWindows()"
   ]
  },
  {
   "cell_type": "code",
   "execution_count": null,
   "metadata": {},
   "outputs": [],
   "source": []
  }
 ],
 "metadata": {
  "kernelspec": {
   "display_name": "Python 3",
   "language": "python",
   "name": "python3"
  },
  "language_info": {
   "codemirror_mode": {
    "name": "ipython",
    "version": 3
   },
   "file_extension": ".py",
   "mimetype": "text/x-python",
   "name": "python",
   "nbconvert_exporter": "python",
   "pygments_lexer": "ipython3",
   "version": "3.7.3"
  }
 },
 "nbformat": 4,
 "nbformat_minor": 2
}
